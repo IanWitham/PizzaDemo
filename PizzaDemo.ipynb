{
 "cells": [
  {
   "cell_type": "code",
   "execution_count": 9,
   "metadata": {
    "dotnet_interactive": {
     "language": "fsharp"
    },
    "polyglot_notebook": {
     "kernelName": "fsharp"
    }
   },
   "outputs": [],
   "source": [
    "type PizzaKind = Meat | Veg\n",
    "\n",
    "type Sauce = Marinara | Alfredo | Ranch\n",
    "\n",
    "type Base = DeepPan | Thin | Regular | CheeseStuffed\n",
    "\n",
    "type Cheese = Mozzarella | Provalone | Goat | Ricotta | Gorgonzola\n",
    "\n",
    "type Order = {\n",
    "    Base : Base\n",
    "    Sauce : Sauce\n",
    "    Cheese : Cheese option\n",
    "    Kind : PizzaKind\n",
    "}\n",
    "\n",
    "type PizzaToppings = MeatToppings | VegToppings\n",
    "\n",
    "type PizzaType = {\n",
    "    Base : Base\n",
    "    Sauce : Sauce\n",
    "    Cheese : Cheese\n",
    "    Toppings : PizzaToppings\n",
    "}\n",
    "\n",
    "type PreparedPizza = PreparedPizza of PizzaType\n",
    "\n",
    "type CookedPizza = CookedPizza of PizzaType\n",
    "\n",
    "type PizzaBox = PizzaBox of CookedPizza\n",
    "\n",
    "module Pizza = \n",
    "    let preparePizza (order : Order) : PreparedPizza = \n",
    "        PreparedPizza {\n",
    "            Base = order.Base\n",
    "            Sauce = order.Sauce\n",
    "            Cheese = order.Cheese |> Option.defaultValue Mozzarella\n",
    "            Toppings =\n",
    "                match order.Kind with\n",
    "                | Veg -> VegToppings\n",
    "                | Meat -> MeatToppings\n",
    "        }\n",
    "\n",
    "    let cookPizza (pizza : PreparedPizza) : CookedPizza =\n",
    "        // do! something with the\n",
    "        // oven here ;-)\n",
    "        match pizza with\n",
    "        | PreparedPizza p -> CookedPizza p\n",
    "\n",
    "    let boxPizza (pizza : CookedPizza) : PizzaBox =\n",
    "        PizzaBox pizza\n",
    "\n",
    "    let unboxPizza pizzaBox = \n",
    "        match pizzaBox with\n",
    "        | PizzaBox p -> p\n",
    "\n",
    "    let createPizza (order: Order) : PizzaBox =\n",
    "        order |> preparePizza |> cookPizza |> boxPizza"
   ]
  },
  {
   "cell_type": "code",
   "execution_count": 11,
   "metadata": {
    "dotnet_interactive": {
     "language": "fsharp"
    },
    "polyglot_notebook": {
     "kernelName": "fsharp"
    }
   },
   "outputs": [
    {
     "name": "stdout",
     "output_type": "stream",
     "text": [
      "PizzaBox (CookedPizza { Base = DeepPan\n",
      "                        Sauce = Ranch\n",
      "                        Cheese = Gorgonzola\n",
      "                        Toppings = MeatToppings })\n"
     ]
    }
   ],
   "source": [
    "let testOrder =\n",
    "    {\n",
    "        Base = DeepPan\n",
    "        Sauce = Ranch\n",
    "        Cheese = Some Gorgonzola\n",
    "        Kind = Meat\n",
    "    }\n",
    "\n",
    "Pizza.createPizza testOrder\n",
    "|> printfn \"%A\""
   ]
  }
 ],
 "metadata": {
  "kernelspec": {
   "display_name": ".NET (F#)",
   "language": "F#",
   "name": ".net-fsharp"
  },
  "language_info": {
   "name": "polyglot-notebook"
  },
  "polyglot_notebook": {
   "kernelInfo": {
    "defaultKernelName": "fsharp",
    "items": [
     {
      "aliases": [],
      "languageName": "fsharp",
      "name": "fsharp"
     }
    ]
   }
  }
 },
 "nbformat": 4,
 "nbformat_minor": 2
}
