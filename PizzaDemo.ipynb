{
 "cells": [
  {
   "cell_type": "code",
   "execution_count": 9,
   "metadata": {
    "dotnet_interactive": {
     "language": "fsharp"
    },
    "polyglot_notebook": {
     "kernelName": "fsharp"
    }
   },
   "outputs": [],
   "source": [
    "type PizzaKind = Meat | Veg\n",
    "\n",
    "type Sauce = Marinara | Alfredo | Ranch\n",
    "\n",
    "type Base = DeepPan | Thin | Regular | CheeseStuffed\n",
    "\n",
    "type Cheese = Mozzarella | Provalone | Goat | Ricotta | Gorgonzola\n",
    "\n",
    "type Order = {\n",
    "    Base : Base\n",
    "    Sauce : Sauce\n",
    "    Cheese : Cheese option\n",
    "    Kind : PizzaKind\n",
    "}\n",
    "\n",
    "type PizzaToppings = MeatToppings | VegToppings\n",
    "\n",
    "type PizzaType = {\n",
    "    Base : Base\n",
    "    Sauce : Sauce\n",
    "    Cheese : Cheese\n",
    "    Toppings : PizzaToppings\n",
    "}\n",
    "\n",
    "type PreparedPizza = PreparedPizza of PizzaType\n",
    "\n",
    "type CookedPizza = CookedPizza of PizzaType\n",
    "\n",
    "type PizzaBox = PizzaBox of CookedPizza\n",
    "\n",
    "module Pizza = \n",
    "    let preparePizza (order : Order) : PreparedPizza = \n",
    "        PreparedPizza {\n",
    "            Base = order.Base\n",
    "            Sauce = order.Sauce\n",
    "            Cheese = order.Cheese |> Option.defaultValue Mozzarella\n",
    "            Toppings =\n",
    "                match order.Kind with\n",
    "                | Veg -> VegToppings\n",
    "                | Meat -> MeatToppings\n",
    "        }\n",
    "\n",
    "    let cookPizza (pizza : PreparedPizza) : CookedPizza =\n",
    "        // do! something with the\n",
    "        // oven here ;-)\n",
    "        match pizza with\n",
    "        | PreparedPizza p -> CookedPizza p\n",
    "\n",
    "    let boxPizza (pizza : CookedPizza) : PizzaBox =\n",
    "        PizzaBox pizza\n",
    "\n",
    "    let unboxPizza pizzaBox = \n",
    "        match pizzaBox with\n",
    "        | PizzaBox p -> p\n",
    "\n",
    "    let createPizza (order: Order) : PizzaBox =\n",
    "        order |> preparePizza |> cookPizza |> boxPizza"
   ]
  },
  {
   "cell_type": "code",
   "execution_count": 10,
   "metadata": {
    "dotnet_interactive": {
     "language": "fsharp"
    },
    "polyglot_notebook": {
     "kernelName": "fsharp"
    }
   },
   "outputs": [
    {
     "data": {
      "text/html": [
       "<details open=\"open\" class=\"dni-treeview\"><summary><span class=\"dni-code-hint\"><code>PizzaBox (CookedPizza { Base = DeepPan\\n                        Sauce = Ranch\\n                        Cheese = Gorgonzola\\n                        Toppings = MeatToppings })</code></span></summary><div><table><thead><tr></tr></thead><tbody><tr><td>Item</td><td><details class=\"dni-treeview\"><summary><span class=\"dni-code-hint\"><code>CookedPizza { Base = DeepPan\\n              Sauce = Ranch\\n              Cheese = Gorgonzola\\n              Toppings = MeatToppings }</code></span></summary><div><table><thead><tr></tr></thead><tbody><tr><td>Item</td><td><details class=\"dni-treeview\"><summary><span class=\"dni-code-hint\"><code>{ Base = DeepPan\\n  Sauce = Ranch\\n  Cheese = Gorgonzola\\n  Toppings = MeatToppings }</code></span></summary><div><table><thead><tr></tr></thead><tbody><tr><td>Base</td><td><details class=\"dni-treeview\"><summary><span class=\"dni-code-hint\"><code>DeepPan</code></span></summary><div><table><thead><tr></tr></thead><tbody></tbody></table></div></details></td></tr><tr><td>Sauce</td><td><details class=\"dni-treeview\"><summary><span class=\"dni-code-hint\"><code>Ranch</code></span></summary><div><table><thead><tr></tr></thead><tbody></tbody></table></div></details></td></tr><tr><td>Cheese</td><td><details class=\"dni-treeview\"><summary><span class=\"dni-code-hint\"><code>Gorgonzola</code></span></summary><div><table><thead><tr></tr></thead><tbody></tbody></table></div></details></td></tr><tr><td>Toppings</td><td><details class=\"dni-treeview\"><summary><span class=\"dni-code-hint\"><code>MeatToppings</code></span></summary><div><table><thead><tr></tr></thead><tbody></tbody></table></div></details></td></tr></tbody></table></div></details></td></tr></tbody></table></div></details></td></tr></tbody></table></div></details><style>\r\n",
       ".dni-code-hint {\r\n",
       "    font-style: italic;\r\n",
       "    overflow: hidden;\r\n",
       "    white-space: nowrap;\r\n",
       "}\r\n",
       ".dni-treeview {\r\n",
       "    white-space: nowrap;\r\n",
       "}\r\n",
       ".dni-treeview td {\r\n",
       "    vertical-align: top;\r\n",
       "    text-align: start;\r\n",
       "}\r\n",
       "details.dni-treeview {\r\n",
       "    padding-left: 1em;\r\n",
       "}\r\n",
       "table td {\r\n",
       "    text-align: start;\r\n",
       "}\r\n",
       "table tr { \r\n",
       "    vertical-align: top; \r\n",
       "    margin: 0em 0px;\r\n",
       "}\r\n",
       "table tr td pre \r\n",
       "{ \r\n",
       "    vertical-align: top !important; \r\n",
       "    margin: 0em 0px !important;\r\n",
       "} \r\n",
       "table th {\r\n",
       "    text-align: start;\r\n",
       "}\r\n",
       "</style>"
      ]
     },
     "metadata": {},
     "output_type": "display_data"
    }
   ],
   "source": [
    "let testOrder =\n",
    "    {\n",
    "        Base = DeepPan\n",
    "        Sauce = Ranch\n",
    "        Cheese = Some Gorgonzola\n",
    "        Kind = Meat\n",
    "    }\n",
    "\n",
    "Pizza.createPizza testOrder"
   ]
  }
 ],
 "metadata": {
  "kernelspec": {
   "display_name": ".NET (F#)",
   "language": "F#",
   "name": ".net-fsharp"
  },
  "language_info": {
   "name": "polyglot-notebook"
  },
  "polyglot_notebook": {
   "kernelInfo": {
    "defaultKernelName": "fsharp",
    "items": [
     {
      "aliases": [],
      "languageName": "fsharp",
      "name": "fsharp"
     }
    ]
   }
  }
 },
 "nbformat": 4,
 "nbformat_minor": 2
}
